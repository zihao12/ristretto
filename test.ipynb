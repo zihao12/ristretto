{
 "cells": [
  {
   "cell_type": "code",
   "execution_count": 1,
   "metadata": {},
   "outputs": [
    {
     "name": "stdout",
     "output_type": "stream",
     "text": [
      "oracle loss: -50361943.95144985\n"
     ]
    }
   ],
   "source": [
    "import warnings\n",
    "warnings.filterwarnings(\"ignore\",category =RuntimeWarning)\n",
    "import numpy as np\n",
    "from ristretto import nmf_kl\n",
    "from sklearn.decomposition import NMF\n",
    "import time\n",
    "np.random.seed(123)\n",
    "\n",
    "## generate data\n",
    "p = 2000\n",
    "n = 1000\n",
    "K = 5\n",
    "W = np.exp(np.random.uniform(size = (p,K)))\n",
    "H = np.exp(np.random.uniform(size = (K,n)))\n",
    "Lam = W.dot(H)\n",
    "A = np.random.poisson(Lam, size = (p,n))\n",
    "\n",
    "# compute oracle loss\n",
    "cost_oracle = nmf_kl.cost(A, W, H)\n",
    "print(\"oracle loss: {}\".format(cost_oracle))"
   ]
  },
  {
   "cell_type": "code",
   "execution_count": 9,
   "metadata": {},
   "outputs": [
    {
     "name": "stdout",
     "output_type": "stream",
     "text": [
      "rnmf_kl\n",
      "runtime: 8.696039199829102\n",
      "loss: -50351082.94685396\n"
     ]
    }
   ],
   "source": [
    "print(\"rnmf_kl\")\n",
    "start = time.time()\n",
    "(W_rnmfkl,H_rnmfkl) = nmf_kl.compute_rnmf_kl(A=A,rank = K, oversample = 100, maxiter = 500)\n",
    "runtime = time.time() - start\n",
    "print(\"runtime: {}\".format(runtime))\n",
    "print(\"loss: {}\".format(nmf_kl.cost(A,W_rnmfkl,H_rnmfkl)))"
   ]
  },
  {
   "cell_type": "code",
   "execution_count": 3,
   "metadata": {},
   "outputs": [
    {
     "name": "stdout",
     "output_type": "stream",
     "text": [
      "nmf_kl\n",
      "runtime: 4.792830944061279\n",
      "loss: -50366796.85357534\n"
     ]
    }
   ],
   "source": [
    "print(\"nmf_kl\")\n",
    "start = time.time()\n",
    "(W_nmfkl,H_nmfkl) = nmf_kl.compute_nmf_kl(A=A,rank = K, maxiter=200)\n",
    "runtime = time.time() - start\n",
    "print(\"runtime: {}\".format(runtime))\n",
    "print(\"loss: {}\".format(nmf_kl.cost(A,W_nmfkl,H_nmfkl)))\n",
    "\n"
   ]
  },
  {
   "cell_type": "code",
   "execution_count": 4,
   "metadata": {},
   "outputs": [
    {
     "name": "stdout",
     "output_type": "stream",
     "text": [
      "skd.nmf\n",
      "runtime: 3.2028110027313232\n",
      "loss: -50360701.475958094\n"
     ]
    }
   ],
   "source": [
    "print(\"skd.nmf\")\n",
    "start = time.time()\n",
    "model = NMF(n_components=K, init = 'nndsvda', beta_loss='kullback-leibler', solver='mu', max_iter=200)\n",
    "model.fit(A)\n",
    "W_skdnmf = model.transform(A)\n",
    "H_skdnmf = model.components_\n",
    "runtime = time.time() - start\n",
    "print(\"runtime: {}\".format(runtime))\n",
    "print(\"loss: {}\".format(nmf_kl.cost(A,W_skdnmf,H_skdnmf)))\n"
   ]
  }
 ],
 "metadata": {
  "kernelspec": {
   "display_name": "Python 3",
   "language": "python",
   "name": "python3"
  },
  "language_info": {
   "codemirror_mode": {
    "name": "ipython",
    "version": 3
   },
   "file_extension": ".py",
   "mimetype": "text/x-python",
   "name": "python",
   "nbconvert_exporter": "python",
   "pygments_lexer": "ipython3",
   "version": "3.6.8"
  }
 },
 "nbformat": 4,
 "nbformat_minor": 2
}
