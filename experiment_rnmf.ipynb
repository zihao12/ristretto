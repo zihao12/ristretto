{
 "cells": [
  {
   "cell_type": "markdown",
   "metadata": {},
   "source": [
    "## Background\n",
    "* In the paper https://arxiv.org/pdf/1711.02037.pdf, after doing $A \\approx QB$, they use a rather complicated way to do HALS in a small subspace. \n",
    "\n",
    "\n",
    "* It seems that we can directly use $A \\approx QB$ in the HALS update formula (equation (14) (15) in the paper) and avoid computation of $O(np)$\n",
    "\n",
    "\n",
    "* I did a naive implementation of it and compare it with the author's algorithms. Below, their HALS algorithm is called `nmf`, and their randomized + HALS is called `rnmf`. My naive implementation is called `rnmf2`. (Note that they use `_update_cdnmf_fast` from sklearn for hals, while I use my naive function). \n",
    "\n",
    "* Code is https://github.com/zihao12/ristretto/blob/master/ristretto/nmf.py\n",
    "\n",
    "## Result:\n",
    "* Speed is as expected. Althouth `rnmf2` is slightly slower than `rmnf`, they are both much faster than `nmf`. It is probably due to implementation details\n",
    "\n",
    "* It is a bit worrying that `rnmf2` lags behind in loss (I have tried with data of different sizes, and it is always `rnmf2` lags behind `rnmf`,which is behind `nmf`)"
   ]
  },
  {
   "cell_type": "markdown",
   "metadata": {},
   "source": [
    "## Generate data and compute oracle loss"
   ]
  },
  {
   "cell_type": "code",
   "execution_count": 1,
   "metadata": {},
   "outputs": [
    {
     "name": "stdout",
     "output_type": "stream",
     "text": [
      "oracle loss: 739609772.7034554\n"
     ]
    }
   ],
   "source": [
    "import warnings\n",
    "#warnings.filterwarnings(\"ignore\",category =RuntimeWarning)\n",
    "import numpy as np\n",
    "from ristretto import nmf\n",
    "from sklearn.decomposition import NMF\n",
    "import time\n",
    "np.random.seed(123)\n",
    "\n",
    "## generate data\n",
    "p = 10000\n",
    "n = 5000\n",
    "K = 5\n",
    "W = np.exp(np.random.uniform(size = (p,K)))\n",
    "H = np.exp(np.random.uniform(size = (K,n)))\n",
    "Lam = W.dot(H)\n",
    "A = np.random.poisson(Lam, size = (p,n))\n",
    "\n",
    "# compute oracle loss\n",
    "cost_oracle = nmf.cost(A, W, H)\n",
    "print(\"oracle loss: {}\".format(cost_oracle))"
   ]
  },
  {
   "cell_type": "markdown",
   "metadata": {},
   "source": [
    "## nmf"
   ]
  },
  {
   "cell_type": "code",
   "execution_count": 2,
   "metadata": {},
   "outputs": [
    {
     "name": "stdout",
     "output_type": "stream",
     "text": [
      "nmf\n",
      "runtime: 119.73408222198486\n",
      "loss: 738505818.5604401\n"
     ]
    }
   ],
   "source": [
    "print(\"nmf\")\n",
    "start = time.time()\n",
    "(W_nmf,H_nmf) = nmf.compute_nmf(A=A,rank = K, maxiter=200)\n",
    "runtime = time.time() - start\n",
    "print(\"runtime: {}\".format(runtime))\n",
    "print(\"loss: {}\".format(nmf.cost(A,W_nmf,H_nmf)))"
   ]
  },
  {
   "cell_type": "code",
   "execution_count": 3,
   "metadata": {},
   "outputs": [
    {
     "name": "stdout",
     "output_type": "stream",
     "text": [
      "rnmf\n",
      "runtime: 8.516527891159058\n",
      "loss: 738516117.0531319\n"
     ]
    }
   ],
   "source": [
    "print(\"rnmf\")\n",
    "start = time.time()\n",
    "(W_rnmf,H_rnmf) = nmf.compute_rnmf(A=A,rank = K, maxiter=200, oversample=20)\n",
    "runtime = time.time() - start\n",
    "print(\"runtime: {}\".format(runtime))\n",
    "print(\"loss: {}\".format(nmf.cost(A,W_rnmf,H_rnmf)))"
   ]
  },
  {
   "cell_type": "code",
   "execution_count": 4,
   "metadata": {},
   "outputs": [
    {
     "name": "stdout",
     "output_type": "stream",
     "text": [
      "rnmf2\n",
      "runtime: 11.374766826629639\n",
      "loss: 738689006.4422762\n"
     ]
    }
   ],
   "source": [
    "print(\"rnmf2\")\n",
    "start = time.time()\n",
    "(W_rnmf2,H_rnmf2) = nmf.compute_rnmf2(A=A,rank = K, maxiter=200,oversample=20)\n",
    "runtime = time.time() - start\n",
    "print(\"runtime: {}\".format(runtime))\n",
    "print(\"loss: {}\".format(nmf.cost(A,W_rnmf2,H_rnmf2)))"
   ]
  }
 ],
 "metadata": {
  "kernelspec": {
   "display_name": "Python 3",
   "language": "python",
   "name": "python3"
  },
  "language_info": {
   "codemirror_mode": {
    "name": "ipython",
    "version": 3
   },
   "file_extension": ".py",
   "mimetype": "text/x-python",
   "name": "python",
   "nbconvert_exporter": "python",
   "pygments_lexer": "ipython3",
   "version": "3.6.8"
  }
 },
 "nbformat": 4,
 "nbformat_minor": 2
}
