{
 "cells": [
  {
   "cell_type": "markdown",
   "metadata": {},
   "source": [
    "# Background\n",
    "\n",
    "* In https://arxiv.org/abs/1711.02037, the fast \"randomized NMF\" algorithm is proposed to solve NMF problem with Frobenius norm. From my previous experiments, it is indeed very fast and still gets good loss. \n",
    "\n",
    "* The key is to get a approximation of data $A \\in N^{p \\times n}$: $A \\approx Q^{'} B, Q \\in R^{d \\times p}, B \\in R^{d \\times n}$,  , where $Q$ is orthonormal. \n",
    "\n",
    "* The theoretical guarantee is that we can bound $E |A - Q^{'} B|$ by the $k+1$th eigenvalue of $A$.\n",
    "\n",
    "* Then instead of solving \n",
    "$$min \\ |A - WH|_F \\ s.t. \\ W \\geq 0, H \\geq 0$$, \n",
    "we solve \n",
    "$$min \\ |B - \\tilde{W}H|_F, \\ s.t. \\ Q^{'}\\tilde{W} \\geq 0, H \\geq 0$$\n",
    "We can solve the smaller problem using HALS, and project $\\tilde{W}$ back ensure nonnegativity:  \n",
    "$$W \\leftarrow max(0, Q^{'}\\tilde{W}) \\ ; \\ \\tilde{W} \\leftarrow QW$$.\n",
    "\n",
    "* However, I have not found similar algorithms for solving NMF with generalized KL divergence. The difficulty lies finding small dimensional \"sketching\" of $A$ with small error. In fact , it has been shown that this is impossible  for an error bound in https://www.cs.dartmouth.edu/~ac/Teach/CS49-Fall11/Papers/guha-sketchingdivs.pdf (need to read more closely). \n",
    "\n",
    "* Although we do not have a theoretical guarantee for solving nmf_kl through random projection, it is still possible that we can get a super fast algorithm that works reasonably well in practice. \n",
    "\n",
    "* In my previous experiment, we can see applying NMF_KL on $\\hat{A}$ is not too bad when we use a big dimension in computing svd of $A$. \n",
    "(https://zihao12.github.io/lowrank-nmf/Experiment_rsvd_betanmf_gtex_d200.html)\n",
    "\n",
    "\n",
    "# What I have tried\n",
    "\n",
    "* I start off adjusting code in https://github.com/erichson/ristretto/blob/master/ristretto/nmf.py so that it can work for generalized kl divergence. \n",
    "\n",
    "* After I got `QB` factorization, I solve $min \\ GKL(B || \\tilde{W} H) \\ s.t. \\ Q^{'}\\tilde{W} \\geq 0, H \\geq 0$ usig multiplicative update. \n",
    "\n",
    "* To get `QB` factorization, I tried the following: \n",
    "\n",
    "    * Directly using their `QB` factorization scheme does not work, as $B$ has too many negative elements, and $GKL(B, \\tilde{W} H)$ only makes sense if $B \\geq 0$. \n",
    "\n",
    "    * Similarly, using `rsvd` won't work, as $B$ has too many negative elements (some are big)\n",
    "\n",
    "    * Then I tried `nndsvd` to get approximation of $A$;\n",
    "\n",
    "    * I also tried `rnmf` (frobenius norm) to get approximation of $A$. \n",
    "\n",
    "# Problem\n",
    "* In my algorithm, I assume the two things but neither of them satisfies:\n",
    "    * $Q^{'} B$ is a good surrogate of $A$ in nmf_kl\n",
    "    * $W \\approx Q^{'} \\tilde{W}$ and we can get $\\tilde{W}$ from $QW$\n",
    "   \n",
    "* From the results below, we can see `rnmf_kl` with approximation from `rnmf` (with big oversampling) is better, but still lags behind `nmf_kl` \n",
    "\n"
   ]
  },
  {
   "cell_type": "markdown",
   "metadata": {},
   "source": [
    "## Generate data and compute oracle loss"
   ]
  },
  {
   "cell_type": "code",
   "execution_count": 1,
   "metadata": {},
   "outputs": [
    {
     "name": "stdout",
     "output_type": "stream",
     "text": [
      "oracle loss: -1264748462.8393648\n"
     ]
    }
   ],
   "source": [
    "import warnings\n",
    "warnings.filterwarnings(\"ignore\",category =RuntimeWarning)\n",
    "import numpy as np\n",
    "from ristretto import nmf_kl\n",
    "from sklearn.decomposition import NMF\n",
    "import time\n",
    "np.random.seed(123)\n",
    "\n",
    "## generate data\n",
    "p = 10000\n",
    "n = 5000\n",
    "K = 5\n",
    "W = np.exp(np.random.uniform(size = (p,K)))\n",
    "H = np.exp(np.random.uniform(size = (K,n)))\n",
    "Lam = W.dot(H)\n",
    "A = np.random.poisson(Lam, size = (p,n))\n",
    "\n",
    "# compute oracle loss\n",
    "cost_oracle = nmf_kl.cost(A, W, H)\n",
    "print(\"oracle loss: {}\".format(cost_oracle))"
   ]
  },
  {
   "cell_type": "markdown",
   "metadata": {},
   "source": [
    "## nmf_kl\n",
    "I implemented multiplicative update in python naively. The same update method is used in `rnmf_kl` as well. "
   ]
  },
  {
   "cell_type": "code",
   "execution_count": 2,
   "metadata": {},
   "outputs": [
    {
     "name": "stdout",
     "output_type": "stream",
     "text": [
      "nmf_kl\n",
      "runtime: 250.08735299110413\n",
      "loss: -1264696227.5196867\n"
     ]
    }
   ],
   "source": [
    "print(\"nmf_kl\")\n",
    "start = time.time()\n",
    "(W_nmfkl,H_nmfkl) = nmf_kl.compute_nmf_kl(A=A,rank = K, maxiter=200)\n",
    "runtime = time.time() - start\n",
    "print(\"runtime: {}\".format(runtime))\n",
    "print(\"loss: {}\".format(nmf_kl.cost(A,W_nmfkl,H_nmfkl)))"
   ]
  },
  {
   "cell_type": "markdown",
   "metadata": {},
   "source": [
    "## rnmf_kl (approximated with `nndsvd`)"
   ]
  },
  {
   "cell_type": "code",
   "execution_count": 3,
   "metadata": {},
   "outputs": [
    {
     "name": "stdout",
     "output_type": "stream",
     "text": [
      "rnmf_kl: approx with nndsvd\n",
      "approximation takes 6.680288076400757\n",
      "runtime: 12.713117361068726\n",
      "loss: -1255020198.7294621\n"
     ]
    }
   ],
   "source": [
    "approx = \"nndsvd\"\n",
    "print(\"rnmf_kl: approx with {}\".format(approx))\n",
    "start = time.time()\n",
    "(W_rnmfkl,H_rnmfkl) = nmf_kl.compute_rnmf_kl(A=A,rank = K, oversample = 100, maxiter = 200, approx=approx)\n",
    "runtime = time.time() - start\n",
    "print(\"runtime: {}\".format(runtime))\n",
    "print(\"loss: {}\".format(nmf_kl.cost(A,W_rnmfkl,H_rnmfkl)))"
   ]
  },
  {
   "cell_type": "markdown",
   "metadata": {},
   "source": [
    "## rnmf_kl (approximated with `rnmf`)"
   ]
  },
  {
   "cell_type": "code",
   "execution_count": 4,
   "metadata": {},
   "outputs": [
    {
     "name": "stdout",
     "output_type": "stream",
     "text": [
      "rnmf_kl: approx with rnmf\n",
      "approximation takes 59.094603061676025\n",
      "runtime: 65.46138024330139\n",
      "loss: -1263914708.9087782\n"
     ]
    }
   ],
   "source": [
    "approx = \"rnmf\"\n",
    "print(\"rnmf_kl: approx with {}\".format(approx))\n",
    "start = time.time()\n",
    "(W_rnmfkl,H_rnmfkl) = nmf_kl.compute_rnmf_kl(A=A,rank = K, oversample = 100, maxiter = 200, approx=approx)\n",
    "runtime = time.time() - start\n",
    "print(\"runtime: {}\".format(runtime))\n",
    "print(\"loss: {}\".format(nmf_kl.cost(A,W_rnmfkl,H_rnmfkl)))"
   ]
  },
  {
   "cell_type": "markdown",
   "metadata": {},
   "source": [
    "### try a bigger oversampling "
   ]
  },
  {
   "cell_type": "code",
   "execution_count": 5,
   "metadata": {},
   "outputs": [
    {
     "name": "stdout",
     "output_type": "stream",
     "text": [
      "rnmf_kl: approx with rnmf\n",
      "approximation takes 204.07633900642395\n",
      "runtime: 212.55510902404785\n",
      "loss: -1264349618.5342836\n"
     ]
    }
   ],
   "source": [
    "approx = \"rnmf\"\n",
    "print(\"rnmf_kl: approx with {}\".format(approx))\n",
    "start = time.time()\n",
    "(W_rnmfkl,H_rnmfkl) = nmf_kl.compute_rnmf_kl(A=A,rank = K, oversample = 200, maxiter = 200, approx=approx)\n",
    "runtime = time.time() - start\n",
    "print(\"runtime: {}\".format(runtime))\n",
    "print(\"loss: {}\".format(nmf_kl.cost(A,W_rnmfkl,H_rnmfkl)))"
   ]
  },
  {
   "cell_type": "markdown",
   "metadata": {},
   "source": [
    "# Assess fits\n",
    "\n",
    "Below I compute p values of fit using $c * ppois(x - 1, lam) + (1 - c) * ppois(x, lam)$. "
   ]
  },
  {
   "cell_type": "code",
   "execution_count": 9,
   "metadata": {},
   "outputs": [],
   "source": [
    "import matplotlib.pyplot as plt\n",
    "from scipy.stats import poisson\n",
    "# c * ppois(x - 1, lam) + (1 - c) * ppois(x, lam)\n",
    "def pval(A, W, H, title = ''):\n",
    "    np.random.seed(123)\n",
    "    WH = W.dot(H)\n",
    "    C = np.random.uniform(size = A.shape)\n",
    "    pvals = C * poisson.pmf(k = A - 1, mu = WH) + (1-C) * poisson.pmf(k = A, mu = WH)\n",
    "    plt.hist(pvals.flatten())\n",
    "    plt.xlabel(\"p value\")\n",
    "    plt.title(title)\n",
    "    plt.show()"
   ]
  },
  {
   "cell_type": "code",
   "execution_count": 10,
   "metadata": {},
   "outputs": [
    {
     "data": {
      "image/png": "[encoded data removed]",
      "text/plain": [
       "<Figure size 432x288 with 1 Axes>"
      ]
     },
     "metadata": {},
     "output_type": "display_data"
    }
   ],
   "source": [
    "pval(A, W, H, 'oracle pvals')"
   ]
  },
  {
   "cell_type": "code",
   "execution_count": 11,
   "metadata": {},
   "outputs": [
    {
     "data": {
      "image/png": "[encoded data removed]",
      "text/plain": [
       "<Figure size 432x288 with 1 Axes>"
      ]
     },
     "metadata": {},
     "output_type": "display_data"
    }
   ],
   "source": [
    "pval(A, W_rnmfkl, H_rnmfkl, 'rnmf_kl pvals')"
   ]
  },
  {
   "cell_type": "markdown",
   "metadata": {},
   "source": [
    "## Code \n",
    "Below are codes I adapted for the computation above"
   ]
  },
  {
   "cell_type": "markdown",
   "metadata": {},
   "source": [
    "```python\n",
    "\"\"\"\n",
    "Nonnegative Matrix Factorization With GKL.\n",
    "\"\"\"\n",
    "\n",
    "from __future__ import division\n",
    "\n",
    "import numpy as np\n",
    "from scipy import linalg\n",
    "\n",
    "from sklearn.decomposition.cdnmf_fast import _update_cdnmf_fast\n",
    "from sklearn.decomposition.nmf import _initialize_nmf\n",
    "from sklearn.utils import check_random_state\n",
    "\n",
    "from .qb import compute_rqb\n",
    "from .nmf import compute_rnmf\n",
    "\n",
    "import sys\n",
    "import time\n",
    "\n",
    "_VALID_DTYPES = (np.float32, np.float64)\n",
    "\n",
    "\n",
    "\n",
    "def update_kl(A, W, H,E, eps = 0):\n",
    "    \"\"\" \n",
    "    W = W .* (((A ./ (W*H)) * H.') ./ (E * H.'));\n",
    "    W = max(W,eps);\n",
    "    H = H .* ((W.' * (A ./ (W*H))) ./ (W.' * E));\n",
    "    H = max(H,eps);\n",
    "    \"\"\"\n",
    "    mulW = (A/W.dot(H)).dot(H.T)/(E.dot(H.T))\n",
    "    W *= mulW\n",
    "    W = W.clip(min = eps)\n",
    "\n",
    "    mulH = W.T.dot(A/W.dot(H))/(W.T.dot(E))\n",
    "    H *= mulH\n",
    "    H = H.clip(min = eps)\n",
    "\n",
    "    return W, H\n",
    "\n",
    "def cost(A, W,H, eps = 0):\n",
    "    \"\"\"\n",
    "    sum(sum(WH - A.*log(WH + eps)))\n",
    "    \"\"\"\n",
    "    WH = W.dot(H)\n",
    "    return (WH - A *np.log(WH + eps)).sum()\n",
    "\n",
    "\n",
    "\n",
    "\n",
    "def compute_nmf_kl(A, rank, init='nndsvda', eps = sys.float_info.min, shuffle=False,\n",
    "                l2_reg_H=0.0, l2_reg_W=0.0, l1_reg_H=0.0, l1_reg_W=0.0,\n",
    "                tol=1e-5, maxiter=200, random_state=None):\n",
    "   \n",
    "    random_state = check_random_state(random_state)\n",
    "\n",
    "    # converts A to array, raise ValueError if A has inf or nan\n",
    "    A = np.asarray_chkfinite(A)\n",
    "    m, n = A.shape\n",
    "\n",
    "    if np.any(A < 0):\n",
    "        raise ValueError(\"Input matrix with nonnegative elements is required.\")\n",
    "\n",
    "    # ~~~~~~~~~~~~~~~~~~~~~~~~~~~~~~~~~~~~~~~~~~~~~~~~~~~~~~~~~~~~~~~~~~~~~~~~~~\n",
    "    # Initialization methods for factor matrices W and H\n",
    "    # 'normal': nonnegative standard normal random init\n",
    "    # ~~~~~~~~~~~~~~~~~~~~~~~~~~~~~~~~~~~~~~~~~~~~~~~~~~~~~~~~~~~~~~~~~~~~~~~~~~\n",
    "    W, H = _initialize_nmf(A, rank, init=init, eps=1e-6, random_state=random_state)\n",
    "\n",
    "    E = np.ones(A.shape)\n",
    "    # ~~~~~~~~~~~~~~~~~~~~~~~~~~~~~~~~~~~~~~~~~~~~~~~~~~~~~~~~~~~~~~~~~~~~~~~~~~\n",
    "    # Iterate the mu algorithm until maxiter is reached\n",
    "    # ~~~~~~~~~~~~~~~~~~~~~~~~~~~~~~~~~~~~~~~~~~~~~~~~~~~~~~~~~~~~~~~~~~~~~~~~~\n",
    "    for niter in range(maxiter):\n",
    "\n",
    "        W, H = update_kl(A, W, H,E, eps = eps)\n",
    "    # Return factor matrices\n",
    "    return W, H\n",
    "\n",
    "\n",
    "def compute_rnmf_kl(A, rank, oversample=100, init='nndsvda',eps = sys.float_info.min,\n",
    "                 tol=1e-5, maxiter=200, random_state=None, approx = 'nndsvd'):\n",
    "    \n",
    "    random_state = check_random_state(random_state)\n",
    "\n",
    "    # converts A to array, raise ValueError if A has inf or nan\n",
    "    A = np.asarray_chkfinite(A)\n",
    "    m, n = A.shape\n",
    "\n",
    "    flipped = False\n",
    "    if n > m:\n",
    "        A = A.T\n",
    "        m, n = A.shape\n",
    "        flipped = True\n",
    "\n",
    "    # if A.dtype not in _VALID_DTYPES:\n",
    "    #     raise ValueError('A.dtype must be one of %s, not %s'\n",
    "    #                      % (' '.join(_VALID_DTYPES), A.dtype))\n",
    "\n",
    "    if np.any(A < 0):\n",
    "        raise ValueError(\"Input matrix with nonnegative elements is required.\")\n",
    "\n",
    "\n",
    "    \n",
    "    # compute low rank \"projection\"\n",
    "    # I hope to get A \\approx Q' * B, where \n",
    "    # Q (p,d) is orthonormal, nonnegative\n",
    "    # B (d,n) is nonnegative\n",
    "\n",
    "    ## one way: just use nndsvd\n",
    "    if approx == 'nndsvd':\n",
    "        start = time.time()\n",
    "        Q, B = _initialize_nmf(A, rank+oversample, init=\"nndsvd\", eps=1e-6, random_state=random_state)\n",
    "        print(\"approximation takes {}\".format(time.time() - start))\n",
    "\n",
    "    ## the other way: use rnmf\n",
    "    if approx == 'rnmf':\n",
    "        start = time.time()\n",
    "        Q, B = compute_rnmf(A, rank+oversample, init = \"nndsvd\")\n",
    "        print(\"approximation takes {}\".format(time.time() - start))\n",
    "\n",
    "    #  Initialization methods for factor matrices W and H\n",
    "    W, H = _initialize_nmf(A, rank, init=init, eps=1e-6, random_state=random_state)\n",
    "    Ht = np.array(H.T, order='C')\n",
    "    W_tilde = Q.T.dot(W)\n",
    "    del A\n",
    "\n",
    "    E = np.ones(B.shape)\n",
    "\n",
    "    #  Iterate the mu algorithm until maxiter is reached\n",
    "    for niter in range(maxiter):\n",
    "\n",
    "        W_tilde, H = update_kl(B, W_tilde, H,E, eps = eps)\n",
    "\n",
    "        W = Q.dot(W_tilde)\n",
    "        W = W.clip(min = eps)\n",
    "        W_tilde = Q.T.dot(W)\n",
    "\n",
    "    # Return factor matrices\n",
    "    if flipped:\n",
    "        return(Ht, W.T)\n",
    "    return W, H\n",
    "\n",
    "\n",
    "```"
   ]
  }
 ],
 "metadata": {
  "kernelspec": {
   "display_name": "Python 3",
   "language": "python",
   "name": "python3"
  },
  "language_info": {
   "codemirror_mode": {
    "name": "ipython",
    "version": 3
   },
   "file_extension": ".py",
   "mimetype": "text/x-python",
   "name": "python",
   "nbconvert_exporter": "python",
   "pygments_lexer": "ipython3",
   "version": "3.6.8"
  }
 },
 "nbformat": 4,
 "nbformat_minor": 2
}
